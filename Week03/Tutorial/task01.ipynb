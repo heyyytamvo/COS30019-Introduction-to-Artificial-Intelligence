{
 "cells": [
  {
   "attachments": {},
   "cell_type": "markdown",
   "metadata": {},
   "source": [
    "## An appropriate data structure for representing a state\n",
    "\n",
    "For this problem, a struct containing 2 attributes with integer type represented 3 litre of water jug and 5 litre of water jug. The source code below shows the implementation:\n",
    "\n",
    "<p align=\"center\">\n",
    " <img src=\"../Img/1a.png\" alt=\"Sol\" width=\"600\"/>\n",
    " <br>Structure for problem\n",
    "</p>\n",
    "\n",
    "## Initial State\n",
    "\n",
    "<p align=\"center\">\n",
    " <img src=\"../Img/1b.png\" alt=\"Sol\" width=\"600\"/>\n",
    " <br>Initial State where both jugs have 0 litre\n",
    "</p>\n",
    "\n",
    "## The Goal Test\n",
    "\n",
    "<p align=\"center\">\n",
    " <img src=\"../Img/1c.png\" alt=\"Sol\" width=\"600\"/>\n",
    " <br>Goal State\n",
    "</p>"
   ]
  }
 ],
 "metadata": {
  "language_info": {
   "name": "python"
  },
  "orig_nbformat": 4
 },
 "nbformat": 4,
 "nbformat_minor": 2
}
