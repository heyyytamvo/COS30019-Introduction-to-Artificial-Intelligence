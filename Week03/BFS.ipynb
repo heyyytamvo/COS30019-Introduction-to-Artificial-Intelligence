{
 "cells": [
  {
   "cell_type": "markdown",
   "id": "6874c95e",
   "metadata": {},
   "source": [
    "# Breadth-first Search (BFS)"
   ]
  },
  {
   "cell_type": "markdown",
   "id": "2813123b",
   "metadata": {},
   "source": [
    "## Bread-first Search Implementation"
   ]
  },
  {
   "cell_type": "code",
   "execution_count": 2,
   "id": "525f2f86",
   "metadata": {},
   "outputs": [],
   "source": [
    "from queue import Queue\n",
    "\n",
    "MAX_VERTEX = 100\n",
    "V = None\n",
    "E = None\n",
    "visited = [False for i in range(MAX_VERTEX)]\n",
    "path = [-1 for i in range(MAX_VERTEX)]\n",
    "graph = [[] for i in range(MAX_VERTEX)]\n",
    "\n",
    "def BFS(start):\n",
    "    waitingQueue = Queue()\n",
    "    waitingQueue.put(start)\n",
    "\n",
    "    while waitingQueue.empty() == False:\n",
    "        currentVertex = waitingQueue.get()\n",
    "        visited[currentVertex] = True\n",
    "\n",
    "        for neighbour in graph[currentVertex]:\n",
    "            if visited[neighbour] == False:\n",
    "                visited[neighbour] = True\n",
    "                path[neighbour] = currentVertex\n",
    "                waitingQueue.put(neighbour)"
   ]
  },
  {
   "cell_type": "markdown",
   "id": "60dc52ff",
   "metadata": {},
   "source": [
    "## Using BFS to solve the Eight-Puzzle Problem\n",
    "\n",
    "### Taking User Input\n",
    "\n",
    "Using adjacent matrix 3x3 to demonstrate the puzzle:\n",
    "\n",
    "1 8 2\n",
    "\n",
    "x 4 3\n",
    "\n",
    "7 6 5\n",
    "\n",
    "The target is:\n",
    "\n",
    "1 2 3\n",
    "\n",
    "4 5 6\n",
    "\n",
    "7 8 x"
   ]
  },
  {
   "cell_type": "code",
   "execution_count": 5,
   "id": "3dfef959",
   "metadata": {},
   "outputs": [
    {
     "name": "stdout",
     "output_type": "stream",
     "text": [
      "The input puzzle is: \n",
      "1 8 2 \n",
      "x 4 3 \n",
      "7 6 5 \n"
     ]
    }
   ],
   "source": [
    "problem = [[], [], []]\n",
    "first_line = input(\"Enter the first row: \")\n",
    "problem[0] = [x for x in first_line.split()]\n",
    "first_line = input(\"Enter the second row: \")\n",
    "problem[1] = [x for x in first_line.split()]\n",
    "first_line = input(\"Enter the third row: \")\n",
    "problem[2] = [x for x in first_line.split()]\n",
    "\n",
    "\n",
    "Xposi = []\n",
    "print(\"The input puzzle is: \")\n",
    "for i in range(3):\n",
    "    for j in range(3):\n",
    "        if (problem[i][j] == 'x'):\n",
    "            Xposi.append(i)\n",
    "            Xposi.append(j)\n",
    "        print(problem[i][j], end=\" \")\n",
    "    print(\"\")\n",
    " "
   ]
  },
  {
   "cell_type": "markdown",
   "id": "0fdc30f7",
   "metadata": {},
   "source": [
    "### Creating a function to check the correct target"
   ]
  },
  {
   "cell_type": "markdown",
   "id": "618a5099",
   "metadata": {},
   "source": [
    "The ``Checking`` function takes a 2D-array and returns ``True`` if that 2D-array is:\n",
    "\n",
    "1 2 3\n",
    "\n",
    "4 5 6\n",
    "\n",
    "7 8 x"
   ]
  },
  {
   "cell_type": "code",
   "execution_count": 6,
   "id": "e3cf8e39",
   "metadata": {},
   "outputs": [],
   "source": [
    "def Checking(matrix):\n",
    "    current = 1\n",
    "    for i in range(3):\n",
    "        for j in range(3):\n",
    "            if (i == 2) and (j == 2) and (matrix[i][j] == 'x'):\n",
    "                return True\n",
    "            if (matrix[i][j] == str(current)):\n",
    "                current += 1\n",
    "                continue\n",
    "            else:\n",
    "                return False"
   ]
  },
  {
   "cell_type": "markdown",
   "id": "a2ce53ca",
   "metadata": {},
   "source": [
    "### Creating a function to swap element"
   ]
  },
  {
   "cell_type": "markdown",
   "id": "ab411806",
   "metadata": {},
   "source": [
    "The ``Swap`` function takes 4 arguements: \n",
    "\n",
    "1. matrix: the current puzzle, which is a 2D-array\n",
    "2. Xposi: the Position of the blank space, which is denoted as 'x'\n",
    "3. newX: the position of the swapping target on x^th^ row\n",
    "4. newY: the position of the swapping target on y^th^ column\n",
    "\n",
    "The function returns a new puzzle after swapping the blank space with a target element\n",
    "\n",
    "For example, given an puzzle like this:\n",
    "\n",
    "1 2 7\n",
    "\n",
    "4 6 3\n",
    "\n",
    "x 8 5\n",
    "\n",
    "The ``Swap(puzzle, [2, 0], 2, 1)`` function performs swapping x and 8, so we will have a new puzzle as below:\n",
    "\n",
    "1 2 7\n",
    "\n",
    "4 6 3\n",
    "\n",
    "8 x 5"
   ]
  },
  {
   "cell_type": "code",
   "execution_count": 7,
   "id": "9f110cf5",
   "metadata": {},
   "outputs": [],
   "source": [
    "def Swap(matrix, Xposi, newX, newY):\n",
    "    result = []\n",
    "    for i in range(3):\n",
    "        temp = []\n",
    "        for j in range(3):\n",
    "            temp.append(matrix[i][j])\n",
    "        result.append(temp)\n",
    "\n",
    "    x = Xposi[0]\n",
    "    y = Xposi[1]\n",
    "\n",
    "    target = matrix[newX][newY]\n",
    "    result[x][y] = target\n",
    "    result[newX][newY] = 'x'\n",
    "\n",
    "    return result"
   ]
  },
  {
   "cell_type": "markdown",
   "id": "b56d6390",
   "metadata": {},
   "source": [
    "### Define a function to print the Puzzle"
   ]
  },
  {
   "cell_type": "code",
   "execution_count": 8,
   "id": "bc9a7ebd",
   "metadata": {},
   "outputs": [],
   "source": [
    "def printMatrix(matrix):\n",
    "    for i in range(3):\n",
    "        for j in range(3):\n",
    "            print(matrix[i][j], end=\" \")\n",
    "        print(\"\")"
   ]
  },
  {
   "cell_type": "markdown",
   "id": "2c531992",
   "metadata": {},
   "source": [
    "### Define a class to store information of a puzzle"
   ]
  },
  {
   "cell_type": "code",
   "execution_count": 9,
   "id": "ae549996",
   "metadata": {},
   "outputs": [],
   "source": [
    "class Puzzle:\n",
    "    def __init__(self, matrix, Xposi, reference):\n",
    "        self.matrix = matrix\n",
    "        self.Xposi = Xposi\n",
    "        self.ref = reference\n",
    "\n",
    "    def getReference(self):\n",
    "        return self.ref\n",
    "\n",
    "    def getXPosi(self):\n",
    "        return self.Xposi\n",
    "    \n",
    "    def getMatrix(self):\n",
    "        return self.matrix"
   ]
  },
  {
   "cell_type": "markdown",
   "id": "21fa6b88",
   "metadata": {},
   "source": [
    "The ``Puzzle`` class has 3 elements:\n",
    "1. matrix: a 2D-array denoting the current state of the puzzle\n",
    "2. Xposi: an array with 2 elements, which stores the position of the blank space\n",
    "3. ref: an integer referencing to the previous stage of the puzzle"
   ]
  },
  {
   "cell_type": "markdown",
   "id": "39efd3a2",
   "metadata": {},
   "source": [
    "## Creating a hash table to store all states of the Puzzle"
   ]
  },
  {
   "cell_type": "code",
   "execution_count": 10,
   "id": "3a62fe1b",
   "metadata": {},
   "outputs": [],
   "source": [
    "dictReference = {}"
   ]
  },
  {
   "cell_type": "markdown",
   "id": "8f280dfa",
   "metadata": {},
   "source": [
    "Using ``dictionary`` in Python as a hash table to store all the states of the puzzle, here is a simple example of our implementation:\n",
    "\n",
    "``dictReference = {0: Puzzle0, 1: Puzzle1}``\n",
    "\n",
    "for ``Puzzle0`` is always the first state of the puzzle:\n",
    "\n",
    "1 8 2\n",
    "\n",
    "x 4 3\n",
    "\n",
    "7 6 5\n",
    "\n",
    "And ``Puzzle1`` could be the state when we move up the blank space:\n",
    "\n",
    "x 8 2\n",
    "\n",
    "1 4 3\n",
    "\n",
    "7 6 5"
   ]
  },
  {
   "cell_type": "markdown",
   "id": "73da335f",
   "metadata": {},
   "source": [
    "### Reimplementing BFS function for the Eight-Puzzle Problem"
   ]
  },
  {
   "cell_type": "code",
   "execution_count": 11,
   "id": "d117a719",
   "metadata": {},
   "outputs": [],
   "source": [
    "# Function checking the valid move for the blank space\n",
    "def ValidMove(x, y):\n",
    "    return (x >= 0 and x < 3) and (y >= 0 and y < 3)\n",
    "\n",
    "#up down left right\n",
    "directionX = [0, 0, -1, 1]\n",
    "directionY = [-1, 1, 0, 0]\n",
    "\n",
    "def BFS_Puzzle(matrix, Xposi):\n",
    "    waitingQueue = Queue()\n",
    "    new = Puzzle(matrix, Xposi, None)\n",
    "    visited = set()\n",
    "    reference = 0\n",
    "    waitingQueue.put(new)\n",
    "\n",
    "    while (waitingQueue.empty() == False):\n",
    "        current = waitingQueue.get()\n",
    "        dictReference[reference] = current\n",
    "        visited.add(str(current.getMatrix()))\n",
    "\n",
    "        if (Checking(current.getMatrix())):\n",
    "            return reference\n",
    "\n",
    "        for i in range(4):\n",
    "            newX = current.getXPosi()[0] + directionX[i]\n",
    "            newY = current.getXPosi()[1] + directionY[i]\n",
    "\n",
    "            if (ValidMove(newX, newY)):\n",
    "                \n",
    "                newMatrix = Swap(current.getMatrix(), current.getXPosi(), newX, newY)\n",
    "                \n",
    "                if str(newMatrix) not in visited:\n",
    "                    visited.add(str(newMatrix))\n",
    "                    newPuzzle = Puzzle(newMatrix, [newX, newY], reference)\n",
    "                    waitingQueue.put(newPuzzle)\n",
    "        reference += 1"
   ]
  },
  {
   "cell_type": "markdown",
   "id": "fcdd532e",
   "metadata": {},
   "source": [
    "## Executing the BFS function and find the key of the final result"
   ]
  },
  {
   "cell_type": "code",
   "execution_count": 12,
   "id": "ca3c9111",
   "metadata": {},
   "outputs": [
    {
     "name": "stdout",
     "output_type": "stream",
     "text": [
      "The key is: 356\n"
     ]
    }
   ],
   "source": [
    "key = BFS_Puzzle(problem, Xposi)\n",
    "print(\"The key is:\", key)"
   ]
  },
  {
   "attachments": {},
   "cell_type": "markdown",
   "id": "80ee69c6",
   "metadata": {},
   "source": [
    "## Printing the solution based on the given key above"
   ]
  },
  {
   "cell_type": "code",
   "execution_count": 13,
   "id": "80485d14",
   "metadata": {},
   "outputs": [
    {
     "name": "stdout",
     "output_type": "stream",
     "text": [
      "-------------------\n",
      "1 8 2 \n",
      "x 4 3 \n",
      "7 6 5 \n",
      "-------------------\n",
      "1 8 2 \n",
      "4 x 3 \n",
      "7 6 5 \n",
      "-------------------\n",
      "1 x 2 \n",
      "4 8 3 \n",
      "7 6 5 \n",
      "-------------------\n",
      "1 2 x \n",
      "4 8 3 \n",
      "7 6 5 \n",
      "-------------------\n",
      "1 2 3 \n",
      "4 8 x \n",
      "7 6 5 \n",
      "-------------------\n",
      "1 2 3 \n",
      "4 8 5 \n",
      "7 6 x \n",
      "-------------------\n",
      "1 2 3 \n",
      "4 8 5 \n",
      "7 x 6 \n",
      "-------------------\n",
      "1 2 3 \n",
      "4 x 5 \n",
      "7 8 6 \n",
      "-------------------\n",
      "1 2 3 \n",
      "4 5 x \n",
      "7 8 6 \n",
      "-------------------\n",
      "1 2 3 \n",
      "4 5 6 \n",
      "7 8 x \n",
      "-------------------\n",
      "Puzzle Solved\n"
     ]
    }
   ],
   "source": [
    "solution = []\n",
    "while key != None:\n",
    "    puzzle = dictReference[key]\n",
    "    solution.append(puzzle.getMatrix())\n",
    "    key = puzzle.getReference()\n",
    "\n",
    "print(\"-------------------\")\n",
    "for i in range(len(solution) - 1, -1, -1):\n",
    "    printMatrix(solution[i])\n",
    "    print(\"-------------------\")\n",
    "\n",
    "print(\"Puzzle Solved\")"
   ]
  }
 ],
 "metadata": {
  "kernelspec": {
   "display_name": "Python 3 (ipykernel)",
   "language": "python",
   "name": "python3"
  },
  "language_info": {
   "codemirror_mode": {
    "name": "ipython",
    "version": 3
   },
   "file_extension": ".py",
   "mimetype": "text/x-python",
   "name": "python",
   "nbconvert_exporter": "python",
   "pygments_lexer": "ipython3",
   "version": "3.9.10"
  }
 },
 "nbformat": 4,
 "nbformat_minor": 5
}
