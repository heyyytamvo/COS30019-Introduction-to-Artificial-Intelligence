{
 "cells": [
  {
   "attachments": {},
   "cell_type": "markdown",
   "metadata": {},
   "source": [
    "### Depth-Limit Search\n",
    "\n",
    "\n",
    "Depth-Limit Search is the same as Depth-First Search, however, the node at the $l^{th}$ depth, we treat it as it has no successors and go back to the node at the $(l-1)^{th}$ \n",
    "\n",
    "## Advantages\n",
    "Less memory\n",
    "\n",
    "\n",
    "## Disavantages\n",
    "Incompleteness\n",
    "\n",
    "Not optimal\n",
    "\n",
    "## Comparison to DFS(Depth First Search)\n",
    "\n",
    "Depth First Search is a special case of DLS, the depth $d$ of the graph is equal $\\infty$. In case the target node is at level $k$, but we choose the limit node is $l$ such that $l < k$, we would never find out the path to our target node.\n",
    "\n",
    "## Source code\n",
    "\n",
    "Source code for Depth-Limit Search can be found in the `DLS.cpp` file. Here is the graph and output for each case:\n",
    "<p align=\"center\">\n",
    " <img src=\"./Img/GraphDLS.png\" alt=\"Graph\" width=\"300\"/>\n",
    " <br>Graph\n",
    "</p>\n",
    "\n",
    "### Depth limit is 7, Source Vertex is 1, Target Vertex is 7\n",
    "<p align=\"center\">\n",
    " <img src=\"./Img/OutputDLS_Limit7_NoSolution.png\" alt=\"Graph\" width=\"300\"/>\n",
    " <br>No solutions exist\n",
    "</p>\n",
    "\n",
    "### Depth limit is 7, Source Vertex is 1, Target Vertex is 10\n",
    "<p align=\"center\">\n",
    " <img src=\"./Img/OutputDLS_Limit7_Solution.png\" alt=\"Graph\" width=\"300\"/>\n",
    " <br>A solution exists\n",
    "</p>\n",
    "\n"
   ]
  }
 ],
 "metadata": {
  "language_info": {
   "name": "python"
  },
  "orig_nbformat": 4
 },
 "nbformat": 4,
 "nbformat_minor": 2
}
