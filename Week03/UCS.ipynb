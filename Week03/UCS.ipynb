{
 "cells": [
  {
   "attachments": {},
   "cell_type": "markdown",
   "metadata": {},
   "source": [
    "# Uniform Cost Search (UCS)\n",
    "## Uniform Cost Search Implementation in Romania Problem\n",
    "\n",
    "From my point of view, The Uniform Cost Search is Dijkstra Algorithm. However the Uniform Cost Search only focus on a single path which lead to the only destination\n",
    "\n",
    "\n",
    "\n",
    "<p align=\"center\">\n",
    "  <img src=\"https://user-images.githubusercontent.com/43790152/97784960-1a142580-1bc4-11eb-9070-39c03eb16df2.png\" alt=\"Graph\" width=\"600\" height=\"400\">\n",
    "</p>"
   ]
  },
  {
   "attachments": {},
   "cell_type": "markdown",
   "metadata": {},
   "source": [
    "### Getting user input\n",
    "\n",
    "The graph will be presented by Adjacent Edges List"
   ]
  },
  {
   "cell_type": "code",
   "execution_count": 20,
   "metadata": {},
   "outputs": [
    {
     "name": "stdout",
     "output_type": "stream",
     "text": [
      "Please enter the number of cities: 20\n",
      "Please enter the number of routes: 22\n",
      "Arad Zerind 75\n",
      "Arad Timisoara 118\n",
      "Timisoara Lugoj 111\n",
      "Zerind Oradea 71\n",
      "Oradea Sibiu 151\n",
      "Arad Sibiu 140\n",
      "Lugoj Mehadia 70\n",
      "Mehadia Dobreta 75\n",
      "Dobreta Craiova 120\n",
      "Craiova Rimnicu_Vilcea 146\n",
      "Rimnicu_Vilcea Sibiu 80\n",
      "Rimnicu_Vilcea Pitesti 97\n",
      "Sibiu Fagaras 99\n",
      "Fagaras Bucharest 211\n",
      "Pitesti Bucharest 101\n",
      "Bucharest Giurgiu 90\n",
      "Bucharest Urziceni 85\n",
      "Urziceni Hirsova 98\n",
      "Hirsova Eforie 86\n",
      "Urziceni Vaslui 142\n",
      "Vaslui Lasi 92\n",
      "Lasi Neamt 87\n"
     ]
    }
   ],
   "source": [
    "import queue\n",
    "\n",
    "encodeList = {}\n",
    "decodeList = {}\n",
    "encodeIndex = 0\n",
    "numberOfVertices = int(input(\"Please enter the number of cities: \"))\n",
    "numberOfEdges = int(input(\"Please enter the number of routes: \"))\n",
    "graph = [[] for i in range(numberOfVertices)]        #adjacent edge list (cost, vertex)\n",
    "\n",
    "for i in range(numberOfEdges):\n",
    "    vertex1, vertex2, cost  = input().lower().split()\n",
    "\n",
    "    if (vertex1 not in encodeList):\n",
    "        encodeList[vertex1] = encodeIndex\n",
    "        decodeList[encodeIndex] = vertex1.title()\n",
    "        encodeIndex += 1\n",
    "    \n",
    "    if (vertex2 not in encodeList):\n",
    "        encodeList[vertex2] = encodeIndex\n",
    "        decodeList[encodeIndex] = vertex2.title()\n",
    "        encodeIndex += 1\n",
    "    \n",
    "    cost = int(cost)\n",
    "\n",
    "    graph[encodeList[vertex1]].append((cost, encodeList[vertex2]))\n",
    "    graph[encodeList[vertex2]].append((cost, encodeList[vertex1]))"
   ]
  },
  {
   "attachments": {},
   "cell_type": "markdown",
   "metadata": {},
   "source": [
    "### Define a priority queue to reduce complexity of the algorithm"
   ]
  },
  {
   "cell_type": "code",
   "execution_count": 16,
   "metadata": {},
   "outputs": [],
   "source": [
    "class MinPriorityQueue:\n",
    "    def __init__(self):\n",
    "        self.q = queue.PriorityQueue()\n",
    "\n",
    "    def __len__(self):\n",
    "        return self.q.qsize()\n",
    "\n",
    "    def __contains__(self, vertex):\n",
    "        return any(v == vertex for _, v in self.q.queue)\n",
    "\n",
    "    def insert(self, cost, vertex):\n",
    "        self.q.put((cost, vertex))\n",
    "\n",
    "    def pop_min(self):\n",
    "        min_cost, min_vertex = self.q.get()\n",
    "        return (min_cost, min_vertex)\n",
    "\n",
    "    def decrease_key(self, new_cost, vertex):\n",
    "        for i, (old_cost, v) in enumerate(self.q.queue):\n",
    "            if v == vertex:\n",
    "                if new_cost < old_cost:\n",
    "                    del self.q.queue[i]\n",
    "                    self.q.put((new_cost, vertex))"
   ]
  },
  {
   "attachments": {},
   "cell_type": "markdown",
   "metadata": {},
   "source": [
    "### Implementation of UCS in solving Romania Shortest Path problem"
   ]
  },
  {
   "cell_type": "code",
   "execution_count": 17,
   "metadata": {},
   "outputs": [],
   "source": [
    "path = [-1 for i in range(numberOfVertices)]\n",
    "dist = [10e8 for i in range(numberOfVertices)]\n",
    "visited = [False for i in range(numberOfVertices)]\n",
    "\n",
    "def UCS(graph, root, target):\n",
    "    PriorityQ = MinPriorityQueue()\n",
    "    PriorityQ.insert(cost=0, vertex=root)\n",
    "    dist[root] = 0\n",
    "    \n",
    "    while PriorityQ.q.empty() == False:\n",
    "        currentCost, CurrentVertex = PriorityQ.pop_min()  #current is a tuple (cost, vertex)\n",
    "        visited[CurrentVertex] = True\n",
    "        for edge in graph[CurrentVertex]:\n",
    "            cost, vertex = edge\n",
    "            \n",
    "            if (visited[vertex]):\n",
    "                continue\n",
    "\n",
    "            if (PriorityQ.__contains__(vertex=vertex)):\n",
    "                if (dist[vertex] < currentCost + cost):\n",
    "                    dist[vertex] = currentCost + cost\n",
    "                    PriorityQ.decrease_key(new_cost=dist[vertex], vertex=vertex)\n",
    "                    path[vertex] = CurrentVertex\n",
    "            else:\n",
    "                dist[vertex] = currentCost + cost\n",
    "                PriorityQ.insert(cost=dist[vertex], vertex=vertex)\n",
    "                path[vertex] = CurrentVertex\n",
    "    \n",
    "    #Return the path from root to target\n",
    "    rootPath = []\n",
    "    start = target\n",
    "    if path[start] == -1:\n",
    "        return None\n",
    "    \n",
    "    while (path[start] != -1):\n",
    "        rootPath.append(start)\n",
    "        start = path[start]\n",
    "\n",
    "    rootPath.append(start)\n",
    "    rootPath.reverse()\n",
    "    return rootPath"
   ]
  },
  {
   "cell_type": "code",
   "execution_count": 22,
   "metadata": {},
   "outputs": [
    {
     "name": "stdout",
     "output_type": "stream",
     "text": [
      "Start City: Bucharest\n",
      "Destination: Arad\n",
      "Shortest Path is: Bucharest, Fagaras, Dobreta, Mehadia, Sibiu, Oradea, Timisoara, Arad, "
     ]
    }
   ],
   "source": [
    "rootCity = input(\"Start City: \").lower()\n",
    "destination = input(\"Destination: \").lower()\n",
    "\n",
    "ShortestPath = UCS(graph=graph, root=encodeList[rootCity], target=encodeList[destination])\n",
    "print(\"Shortest Path is:\", end=\" \")\n",
    "for i in ShortestPath:\n",
    "    print(decodeList[i], end=\", \")"
   ]
  }
 ],
 "metadata": {
  "kernelspec": {
   "display_name": "Python 3 (ipykernel)",
   "language": "python",
   "name": "python3"
  },
  "language_info": {
   "codemirror_mode": {
    "name": "ipython",
    "version": 3
   },
   "file_extension": ".py",
   "mimetype": "text/x-python",
   "name": "python",
   "nbconvert_exporter": "python",
   "pygments_lexer": "ipython3",
   "version": "3.9.10"
  }
 },
 "nbformat": 4,
 "nbformat_minor": 2
}
